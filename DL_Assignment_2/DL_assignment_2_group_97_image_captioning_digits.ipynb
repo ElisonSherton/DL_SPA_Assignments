{
 "cells": [
  {
   "cell_type": "markdown",
   "id": "e03f0ecb-59f1-477f-9136-b1bbdc577ce8",
   "metadata": {},
   "source": [
    "# Group No 97\n",
    "\n",
    "## Group Member Names:\n",
    "|No.|Member|Student ID|\n",
    "|--|--|--|\n",
    "|1|Shreysi Kalra|2021fc04586|\n",
    "|2|Vinayak Nayak|2021fc04135|\n",
    "|3|Ajith Praveen R|2021fc04329|"
   ]
  },
  {
   "cell_type": "markdown",
   "id": "f677da82-f7cd-484b-895d-eff737862ce3",
   "metadata": {},
   "source": [
    " **Problem Statement** \n",
    " \n",
    "Generate Image Captions using CNN+LSTM. (you can use pretrained models) \n",
    "\n",
    "Dataset: MNIST is a dataset of images, consisting of a training set of 60,000 examples and a test set of 10,000 examples. Each example is a 28x28 grayscale image, associated with a label from 10 classes.\n",
    "\n",
    "Requirements:\n",
    "\n",
    "- tensorflow\n",
    "- keras\n",
    "- numpy, pandas, matplotlib\n",
    "- Pillow, opencv, tqdm\n",
    "- nltk (For evaluation of test set using BLEU Score)\n",
    "\n",
    "All our code, data and other related information could be accessed on this [drive link](https://drive.google.com/drive/folders/186IWnzNgUQZNIvXYJSJPQDzz7JFUJAtT?usp=sharing)."
   ]
  },
  {
   "cell_type": "markdown",
   "id": "df8a72ff-3533-43dc-a753-93927e3f917f",
   "metadata": {},
   "source": [
    "# Import Libraries/Dataset/Prepare Data"
   ]
  },
  {
   "cell_type": "code",
   "execution_count": null,
   "id": "77401022-750d-49ed-bcc6-fc1e8ea1103a",
   "metadata": {},
   "outputs": [],
   "source": [
    "%reload_ext autoreload\n",
    "%autoreload 2"
   ]
  },
  {
   "cell_type": "code",
   "execution_count": null,
   "id": "da2f3f4c-0d1c-4b43-ba65-a7ebfe024766",
   "metadata": {},
   "outputs": [],
   "source": [
    "# Import all the needed libraries here\n",
    "import warnings\n",
    "warnings.filterwarnings(\"ignore\")\n",
    "\n",
    "import matplotlib.pyplot as plt\n",
    "from tqdm import tqdm\n",
    "import pickle\n",
    "\n",
    "# Basic Libraries\n",
    "import numpy as np\n",
    "import pandas as pd\n",
    "from collections import Counter, defaultdict\n",
    "from pathlib import Path\n",
    "\n",
    "# Image Image manipulation libraries\n",
    "import PIL.Image\n",
    "\n",
    "# Deep Learning Libraries\n",
    "import tensorflow as tf\n",
    "import keras\n",
    "from keras.applications.resnet import ResNet50, preprocess_input\n",
    "from keras.datasets import mnist\n",
    "from tensorflow.keras.models import Sequential\n",
    "from tensorflow.keras.layers import (LSTM, Embedding, Dense, Flatten, BatchNormalization, \n",
    "                                     Reshape, Concatenate, Dropout, Input, add)\n",
    "from tensorflow.keras.optimizers import Adam\n",
    "from tensorflow.keras import optimizers\n",
    "from tensorflow.keras.models import Model\n",
    "\n",
    "from tensorflow.keras.preprocessing.sequence import pad_sequences\n",
    "from tensorflow.keras.utils import to_categorical\n",
    "\n",
    "# For evaluation\n",
    "from nltk.translate.bleu_score import sentence_bleu\n",
    "\n",
    "# For plotting\n",
    "import matplotlib.pyplot as plt\n",
    "plt.style.use(\"ggplot\")\n",
    "%matplotlib inline\n",
    "\n",
    "# Define constants here\n",
    "START = \"startseq\"\n",
    "STOP = \"endseq\"\n",
    "EPOCHS = 12\n",
    "BATCH_SIZE = 32\n",
    "TEXT_EMBED_DIMENSION = 32\n",
    "IMAGE_EMBED_DIMENSION = 2048"
   ]
  },
  {
   "cell_type": "markdown",
   "id": "2c8e564c-90b8-491c-9afd-335719d198ed",
   "metadata": {},
   "source": [
    "- Download the MNIST data\n",
    "- Download a pretrained model (pretrained for ImageNet classification)\n",
    "- Extract embeddings of the MNIST images from this pretrained model\n",
    "- Convert data into correct format (tensors) and plot two input-output pairs"
   ]
  },
  {
   "cell_type": "code",
   "execution_count": null,
   "id": "bd1effd0-7f51-4aa8-988a-455f6b87d898",
   "metadata": {},
   "outputs": [],
   "source": [
    "# Download the MNIST dataset from keras\n",
    "(X_train, y_train), (X_test, y_test) = mnist.load_data()"
   ]
  },
  {
   "cell_type": "code",
   "execution_count": null,
   "id": "6323ca99-b7ad-45a8-874a-b64cac909c16",
   "metadata": {},
   "outputs": [
    {
     "name": "stdout",
     "output_type": "stream",
     "text": [
      "(60000, 28, 28) (60000,)\n",
      "(10000, 28, 28) (10000,)\n"
     ]
    }
   ],
   "source": [
    "# Check the shapes of the dataset\n",
    "print(X_train.shape, y_train.shape)\n",
    "print(X_test.shape, y_test.shape)"
   ]
  },
  {
   "cell_type": "code",
   "execution_count": null,
   "id": "8fee97df-40cc-446d-ac28-8f63920b4b3f",
   "metadata": {},
   "outputs": [],
   "source": [
    "# Create resnet50 model for feature extraction\n",
    "# We are keeping the input shape as 28 x 28 only and not resizing it to 224 x 224\n",
    "# Resnet does GAP at the feature extraction part so input shape doesn't impact the output\n",
    "# Also we believe that the image upscaling from 28 to 224 square image will introduce\n",
    "# unnecessary artefacts which would be undesirable\n",
    "new_input = Input(shape=(28, 28, 3))\n",
    "res = ResNet50(include_top=False, input_tensor=new_input)"
   ]
  },
  {
   "cell_type": "code",
   "execution_count": null,
   "id": "3221b930-babf-4206-9223-6990aee447c8",
   "metadata": {},
   "outputs": [],
   "source": [
    "# Extract embeddings in batches\n",
    "# Function to create batches of data from the provided input data\n",
    "def create_batches(X, batch_size=32):\n",
    "\n",
    "    # With the given batch size, find the total number of batches\n",
    "    n_batches = X.shape[0] // batch_size\n",
    "\n",
    "    # Last batch could've been fractional and may get ignored hence increment n_batches by one\n",
    "    n_batches += 1\n",
    "\n",
    "    # Loop over all the data for n_batches times to create the batch\n",
    "    all_batches = []\n",
    "    for batch in tqdm(range(n_batches), total=n_batches, desc=\"Creating batches...\"):\n",
    "        try:\n",
    "\n",
    "            # Subset into the batch dimension of the numpy array\n",
    "            start = batch * batch_size\n",
    "            end = start + batch_size\n",
    "            images = X[start:end, :, :]\n",
    "            preprocessed_images = []\n",
    "\n",
    "            # Process each image in the batch\n",
    "            if len(images) > 0:\n",
    "                for image in images:\n",
    "                    # Create the numpy array into a 1-D grayscale PIL Image\n",
    "                    # Post that convert that image into an RGB image since the\n",
    "                    # pretrained model was trained on 3-channel images\n",
    "                    image = np.array(PIL.Image.fromarray(image).convert(\"RGB\"))\n",
    "                    image = image.reshape((1, *image.shape))\n",
    "                    preprocessed_images.append(image)\n",
    "\n",
    "                # Create a tensor out of this batch\n",
    "                batch_tensor = Concatenate(axis=0)(preprocessed_images)\n",
    "\n",
    "                # Add these batches to a list\n",
    "                all_batches.append(batch_tensor)\n",
    "        except Exception as e:\n",
    "            print(str(e))\n",
    "            pass\n",
    "\n",
    "    # Return the list of all the batches\n",
    "    return all_batches"
   ]
  },
  {
   "cell_type": "code",
   "execution_count": null,
   "id": "c7f4f833-4360-4e4e-9f73-aa1149ba359e",
   "metadata": {},
   "outputs": [
    {
     "name": "stderr",
     "output_type": "stream",
     "text": [
      "Creating batches...: 100%|██████████| 1876/1876 [02:03<00:00, 15.13it/s]\n",
      "Creating batches...: 100%|██████████| 313/313 [00:20<00:00, 15.12it/s]\n"
     ]
    }
   ],
   "source": [
    "# Create a set of train and validation batches with the help of above function\n",
    "train_batches = create_batches(X_train)\n",
    "test_batches = create_batches(X_test)"
   ]
  },
  {
   "cell_type": "code",
   "execution_count": null,
   "id": "20c0e95e-6b37-4f60-be66-3356bce784fc",
   "metadata": {},
   "outputs": [],
   "source": [
    "# Get the resnet embeddings for the images\n",
    "def get_embeddings(batched_data):\n",
    "    embeddings = []\n",
    "    for batch in tqdm(batched_data, total=len(batched_data)):\n",
    "        embeddings.append(res.predict(batch, verbose=0))\n",
    "    return embeddings"
   ]
  },
  {
   "cell_type": "code",
   "execution_count": null,
   "id": "9cfe9264-2cae-49da-9c82-98d6a377b532",
   "metadata": {},
   "outputs": [
    {
     "name": "stderr",
     "output_type": "stream",
     "text": [
      "100%|██████████| 1875/1875 [01:55<00:00, 16.28it/s]\n"
     ]
    }
   ],
   "source": [
    "# Get the train embeddings\n",
    "train_embeds = get_embeddings(train_batches)\n",
    "train_embeds = np.concatenate(train_embeds, axis=0)\n",
    "train_embeds = train_embeds[:, 0, 0, :]"
   ]
  },
  {
   "cell_type": "code",
   "execution_count": null,
   "id": "1dc79c8c-86ab-43cd-835f-b03fc9f2a82a",
   "metadata": {},
   "outputs": [
    {
     "name": "stderr",
     "output_type": "stream",
     "text": [
      "100%|██████████| 313/313 [00:20<00:00, 15.00it/s]\n"
     ]
    }
   ],
   "source": [
    "# Get the test embeddings\n",
    "test_embeds = get_embeddings(test_batches)\n",
    "test_embeds = np.concatenate(test_embeds, axis=0)\n",
    "test_embeds = test_embeds[:, 0, 0, :]"
   ]
  },
  {
   "cell_type": "code",
   "execution_count": null,
   "id": "41ae2fa1-4c0b-4f1c-8fa0-66a90671573f",
   "metadata": {},
   "outputs": [
    {
     "data": {
      "text/plain": [
       "((60000, 2048), (10000, 2048))"
      ]
     },
     "execution_count": null,
     "metadata": {},
     "output_type": "execute_result"
    }
   ],
   "source": [
    "train_embeds.shape, test_embeds.shape"
   ]
  },
  {
   "cell_type": "code",
   "execution_count": null,
   "id": "07edac6e-ea02-45d4-bf26-e562374bdd20",
   "metadata": {},
   "outputs": [],
   "source": [
    "# Dump the embeddings along with labels in pickle file \n",
    "# This is to persist the data and to look at the same for any subsequent analysis\n",
    "\n",
    "data = {\n",
    "    \"train\": {\"embeddings\": train_embeds, \"labels\": y_train},\n",
    "    \"test\": {\"embeddings\": test_embeds, \"labels\": y_test},\n",
    "}\n",
    "\n",
    "pickle.dump(data, open(\"data/embeddings_with_labels.pkl\", \"wb\"))"
   ]
  },
  {
   "cell_type": "markdown",
   "id": "928a68f9-844e-4541-bc17-7a6e5fe82694",
   "metadata": {},
   "source": [
    "**Understanding Captions**"
   ]
  },
  {
   "cell_type": "code",
   "execution_count": null,
   "id": "584a0267-df2b-41fd-b758-5146fae331a6",
   "metadata": {},
   "outputs": [
    {
     "data": {
      "image/png": "[encoded data removed]",
      "text/plain": [
       "<Figure size 720x288 with 1 Axes>"
      ]
     },
     "metadata": {
      "needs_background": "light"
     },
     "output_type": "display_data"
    }
   ],
   "source": [
    "# Create a pool of labels which our model is expected to output\n",
    "label_pool = [\"zero\", \"one\", \"two\", \"three\", \"four\", \"five\", \"six\", \"seven\", \"eight\", \"nine\"]\n",
    "\n",
    "# Examine the distribution of letters in all these labels\n",
    "chars = []\n",
    "for l in label_pool:\n",
    "    chars.extend(list(l))\n",
    "\n",
    "char_counts = Counter(chars)\n",
    "plt.figure(figsize = (10,4))\n",
    "plt.bar(char_counts.keys(), char_counts.values());\n",
    "plt.title(f\"Counts of {len(char_counts)} characters across all the 10 labels\");"
   ]
  },
  {
   "cell_type": "markdown",
   "id": "097702f7-d409-42fa-b461-0cae493f8d30",
   "metadata": {},
   "source": [
    "**Observations**\n",
    "\n",
    "From this we can think that\n",
    "- In any batch which is picked using random sampling, there's a high chance that characters like `o`, `i`, `e` will appear in the word representation, so these character embeddings should get trained pretty well.\n",
    "- Characters like `x`, `w`, `g` etc. might be underrepresented in our batches as opposed to the above characters. We could think of using weighted sampling for dataloading such that characters like x, g etc. also appear higher number of times."
   ]
  },
  {
   "cell_type": "markdown",
   "id": "c4e152a0-513d-4a56-934c-6f3e6738613e",
   "metadata": {},
   "source": [
    "**Build the text pipeline**"
   ]
  },
  {
   "cell_type": "code",
   "execution_count": null,
   "id": "45435c96-7a00-481c-9d6a-099b346febd3",
   "metadata": {},
   "outputs": [],
   "source": [
    "# Load the embedding data which was extracted and stored\n",
    "data = pickle.load(open(\"data/embeddings_with_labels.pkl\", \"rb\"))"
   ]
  },
  {
   "cell_type": "code",
   "execution_count": null,
   "id": "6126b46c-684a-4a43-a808-1f1fb9e94684",
   "metadata": {},
   "outputs": [],
   "source": [
    "# Create an output map which gives the output of the class in the form of alphabets\n",
    "output_map = {0: \"zero\", 1:\"one\", 2:\"two\", 3:\"three\", \n",
    "              4: \"four\", 5: \"five\", 6: \"six\", 7:\"seven\",\n",
    "              8: \"eight\", 9: \"nine\"}"
   ]
  },
  {
   "cell_type": "code",
   "execution_count": null,
   "id": "31520321-ca8c-4e7f-b359-8fbc9c0df9dc",
   "metadata": {},
   "outputs": [],
   "source": [
    "# Create a vocabulary of alphabets which are used in the word representation\n",
    "# This is to basically help frame the problem using LSTM as a next alphabet prediction \n",
    "vocab = []\n",
    "for item in output_map.values():\n",
    "    vocab.extend(list(item))\n",
    "\n",
    "# Add the special tokens to the vocabulary list\n",
    "vocab.extend([START, STOP])\n",
    "vocab = sorted(list(set(vocab)))"
   ]
  },
  {
   "cell_type": "code",
   "execution_count": null,
   "id": "5bcf7cc7-fe64-48d8-a7f5-738a0dcf328f",
   "metadata": {},
   "outputs": [],
   "source": [
    "# Recreate output_map in form of lists of alphabets in place of single string words\n",
    "for k, v in output_map.items():\n",
    "    v = [START] + list(v) + [STOP]\n",
    "    output_map[k] = v"
   ]
  },
  {
   "cell_type": "code",
   "execution_count": null,
   "id": "20a94e64-24e0-4ae1-ac47-54691bd78aef",
   "metadata": {},
   "outputs": [
    {
     "data": {
      "text/plain": [
       "18"
      ]
     },
     "execution_count": null,
     "metadata": {},
     "output_type": "execute_result"
    }
   ],
   "source": [
    "# Create two sided mapping from word to index and vice-versa\n",
    "idx_to_alphabet = {}\n",
    "alphabet_to_idx = {}\n",
    "\n",
    "ix = 1\n",
    "for w in vocab:\n",
    "    alphabet_to_idx[w] = ix\n",
    "    idx_to_alphabet[ix] = w\n",
    "    ix += 1\n",
    "    \n",
    "VOCAB_SIZE = len(idx_to_alphabet) + 1\n",
    "VOCAB_SIZE"
   ]
  },
  {
   "cell_type": "code",
   "execution_count": null,
   "id": "b8ec33e2-12a6-4aa3-8881-caac6c990d5c",
   "metadata": {},
   "outputs": [
    {
     "name": "stdout",
     "output_type": "stream",
     "text": [
      "VOCAB: \n",
      "['e', 'endseq', 'f', 'g', 'h', 'i', 'n', 'o', 'r', 's', 'startseq', 't', 'u', 'v', 'w', 'x', 'z']\n",
      "\n",
      "OUTPUT MAP: \n",
      "{0: ['startseq', 'z', 'e', 'r', 'o', 'endseq'], 1: ['startseq', 'o', 'n', 'e', 'endseq'], 2: ['startseq', 't', 'w', 'o', 'endseq'], 3: ['startseq', 't', 'h', 'r', 'e', 'e', 'endseq'], 4: ['startseq', 'f', 'o', 'u', 'r', 'endseq'], 5: ['startseq', 'f', 'i', 'v', 'e', 'endseq'], 6: ['startseq', 's', 'i', 'x', 'endseq'], 7: ['startseq', 's', 'e', 'v', 'e', 'n', 'endseq'], 8: ['startseq', 'e', 'i', 'g', 'h', 't', 'endseq'], 9: ['startseq', 'n', 'i', 'n', 'e', 'endseq']}\n",
      "\n",
      "IDX TO ALPHABET: \n",
      "{1: 'e', 2: 'endseq', 3: 'f', 4: 'g', 5: 'h', 6: 'i', 7: 'n', 8: 'o', 9: 'r', 10: 's', 11: 'startseq', 12: 't', 13: 'u', 14: 'v', 15: 'w', 16: 'x', 17: 'z'}\n",
      "\n",
      "ALPHABET TO IDX: \n",
      "{'e': 1, 'endseq': 2, 'f': 3, 'g': 4, 'h': 5, 'i': 6, 'n': 7, 'o': 8, 'r': 9, 's': 10, 'startseq': 11, 't': 12, 'u': 13, 'v': 14, 'w': 15, 'x': 16, 'z': 17}\n"
     ]
    }
   ],
   "source": [
    "# Display all the important data structures created above\n",
    "print(f\"VOCAB: \\n{vocab}\\n\")\n",
    "print(f\"OUTPUT MAP: \\n{output_map}\\n\")\n",
    "print(f\"IDX TO ALPHABET: \\n{idx_to_alphabet}\\n\")\n",
    "print(f\"ALPHABET TO IDX: \\n{alphabet_to_idx}\")"
   ]
  },
  {
   "cell_type": "code",
   "execution_count": null,
   "id": "9fb647a5-0450-4ccd-a074-2aff8b76a96b",
   "metadata": {},
   "outputs": [
    {
     "name": "stdout",
     "output_type": "stream",
     "text": [
      "The label/word with maximum length (including start and stop tokens) is 7\n"
     ]
    }
   ],
   "source": [
    "# Find out the term with the maximum length; This is to help pad all the sequences to a same length\n",
    "MAX_SEQUENCE_LENGTH = max([len(x) for x in output_map.values()])\n",
    "print(f\"The label/word with maximum length (including start and stop tokens) is {MAX_SEQUENCE_LENGTH}\")"
   ]
  },
  {
   "cell_type": "code",
   "execution_count": null,
   "id": "abf80bfb-82e8-441c-b259-ca0ddecbe632",
   "metadata": {},
   "outputs": [],
   "source": [
    "# Define train and test set inputs\n",
    "train = data[\"train\"]\n",
    "train_embeds, train_labels = train[\"embeddings\"], train[\"labels\"]\n",
    "\n",
    "test = data[\"test\"]\n",
    "test_embeds, test_labels = test[\"embeddings\"], test[\"labels\"]"
   ]
  },
  {
   "cell_type": "code",
   "execution_count": null,
   "id": "0bd9ad26-7d91-412d-96b7-000fb7f5147d",
   "metadata": {},
   "outputs": [],
   "source": [
    "# Define a data generator\n",
    "# We will not be able to load everything at once in memory\n",
    "# Hence need to use a generator which yields the current batch and remembers\n",
    "# the state of the last returned batch so it could resume from there onwards \n",
    "def data_generator(labels, image_embeds, alphabet_to_idx,\n",
    "                   max_length = MAX_SEQUENCE_LENGTH, num_photos_per_batch = BATCH_SIZE):\n",
    "    # x1 - Training data for photos/image embeddings\n",
    "    # x2 - The word/alphabet that goes with each photo/embedding\n",
    "    # y - The predicted rest of alphabets of the word\n",
    "    x1, x2, y = [], [], []\n",
    "    n = 0\n",
    "    while True:\n",
    "        for lbl, img_embed in zip(labels, image_embeds):\n",
    "            n += 1\n",
    "            \n",
    "            # Find the label, convert it into a list of alphabet tokens\n",
    "            val = output_map[lbl]\n",
    "            seq = [alphabet_to_idx[alphabet] for alphabet in val if alphabet in alphabet_to_idx]\n",
    "            \n",
    "            # Generate a training case for every possible sequence and outcome\n",
    "            for i in range(1, len(seq)):\n",
    "                in_seq, out_seq = seq[:i], seq[i]\n",
    "                in_seq = pad_sequences([in_seq], maxlen = max_length, padding = 'post')[0]\n",
    "                out_seq = to_categorical([out_seq], num_classes = VOCAB_SIZE)[0]\n",
    "                x1.append(img_embed)\n",
    "                x2.append(in_seq)\n",
    "                y.append(out_seq)\n",
    "            \n",
    "            # On collecting as many as num_of_photos_per_batch images, yield this as the output\n",
    "            if n == num_photos_per_batch:\n",
    "                out = ((np.array(x1), np.array(x2)), np.array(y))\n",
    "                yield out\n",
    "                x1, x2, y = [], [], []\n",
    "                n = 0"
   ]
  },
  {
   "cell_type": "code",
   "execution_count": null,
   "id": "427ea102-3663-4693-9c5b-73914c9fd85a",
   "metadata": {},
   "outputs": [],
   "source": [
    "# Make a temporary generator to understand how the data is being curated\n",
    "# Only show one sample here end to end\n",
    "temp_gen = data_generator(train_labels, train_embeds, alphabet_to_idx, \n",
    "                          MAX_SEQUENCE_LENGTH, 1)"
   ]
  },
  {
   "cell_type": "code",
   "execution_count": null,
   "id": "7f93acb7-fa00-42b8-8ebe-a8d74c4b71a3",
   "metadata": {},
   "outputs": [
    {
     "name": "stdout",
     "output_type": "stream",
     "text": [
      "Input: ['img_embed', 'startseq']\n",
      "Output: f\n",
      "\n",
      "Input: ['img_embed', 'startseq', 'f']\n",
      "Output: i\n",
      "\n",
      "Input: ['img_embed', 'startseq', 'f', 'i']\n",
      "Output: v\n",
      "\n",
      "Input: ['img_embed', 'startseq', 'f', 'i', 'v']\n",
      "Output: e\n",
      "\n",
      "Input: ['img_embed', 'startseq', 'f', 'i', 'v', 'e']\n",
      "Output: endseq\n",
      "\n"
     ]
    },
    {
     "data": {
      "image/png": "[encoded data removed]",
      "text/plain": [
       "<Figure size 216x216 with 1 Axes>"
      ]
     },
     "metadata": {
      "needs_background": "light"
     },
     "output_type": "display_data"
    }
   ],
   "source": [
    "# Extract one sample from the temporary generator created above\n",
    "sample = next(temp_gen)\n",
    "(img, seq), out = sample\n",
    "\n",
    "# Show the image for which we are making the caption\n",
    "plt.figure(figsize = (3, 3))\n",
    "plt.imshow(X_train[0], cmap = \"gray\")\n",
    "\n",
    "# Input the image embedding plus the individual tokens/alphabets one by one\n",
    "# and then predict next token as the output, stop on encountering the end token\n",
    "for s, o in zip(seq, out):\n",
    "    print(f\"Input: {['img_embed'] + [idx_to_alphabet[x] for x in s if x != 0]}\\nOutput: {idx_to_alphabet[o.argmax()]}\\n\")"
   ]
  },
  {
   "cell_type": "code",
   "execution_count": null,
   "id": "72771832-36fb-4aab-9854-bcfbbd33d46e",
   "metadata": {},
   "outputs": [
    {
     "name": "stdout",
     "output_type": "stream",
     "text": [
      "Input: ['img_embed', 'startseq']\n",
      "Output: z\n",
      "\n",
      "Input: ['img_embed', 'startseq', 'z']\n",
      "Output: e\n",
      "\n",
      "Input: ['img_embed', 'startseq', 'z', 'e']\n",
      "Output: r\n",
      "\n",
      "Input: ['img_embed', 'startseq', 'z', 'e', 'r']\n",
      "Output: o\n",
      "\n",
      "Input: ['img_embed', 'startseq', 'z', 'e', 'r', 'o']\n",
      "Output: endseq\n",
      "\n"
     ]
    },
    {
     "data": {
      "image/png": "[encoded data removed]",
      "text/plain": [
       "<Figure size 216x216 with 1 Axes>"
      ]
     },
     "metadata": {
      "needs_background": "light"
     },
     "output_type": "display_data"
    }
   ],
   "source": [
    "# Extract another sample from the temporary generator created above\n",
    "sample = next(temp_gen)\n",
    "(img, seq), out = sample\n",
    "\n",
    "# Show the image for which we are making the caption\n",
    "plt.figure(figsize = (3, 3))\n",
    "plt.imshow(X_train[1], cmap = \"gray\")\n",
    "\n",
    "# Input the image embedding plus the individual tokens/alphabets one by one\n",
    "# and then predict next token as the output, stop on encountering the end token\n",
    "for s, o in zip(seq, out):\n",
    "    print(f\"Input: {['img_embed'] + [idx_to_alphabet[x] for x in s if x != 0]}\\nOutput: {idx_to_alphabet[o.argmax()]}\\n\")"
   ]
  },
  {
   "cell_type": "code",
   "execution_count": null,
   "id": "aafbe321-d317-4eae-a71c-44b80a538243",
   "metadata": {},
   "outputs": [],
   "source": [
    "# Create an embedding matrix, start with random embeddings\n",
    "# Set the seed to a number to ensure reproducibility\n",
    "np.random.seed(314)\n",
    "embedding_matrix = np.random.randn(VOCAB_SIZE, TEXT_EMBED_DIMENSION)"
   ]
  },
  {
   "cell_type": "markdown",
   "id": "b284bede-9eeb-4f7b-aadd-b47734f23dbb",
   "metadata": {},
   "source": [
    "# Model Building"
   ]
  },
  {
   "cell_type": "code",
   "execution_count": null,
   "id": "37434612-fd19-4831-a4e7-cc94962654fc",
   "metadata": {},
   "outputs": [],
   "source": [
    "# Define the model architecture here\n",
    "\n",
    "# Define the encoder architecture i.e. input of embedding\n",
    "# obtained from resnet50 embedding as the input\n",
    "inputs1 = Input(shape=(IMAGE_EMBED_DIMENSION, ))\n",
    "fe1 = Dropout(0.5)(inputs1)\n",
    "fe2 = Dense(128, activation='relu')(fe1)\n",
    "\n",
    "# Define the Decoder architecture\n",
    "# i.e. LSTM with two layers and a dropout sandwiched between them\n",
    "inputs2 = Input(shape=(MAX_SEQUENCE_LENGTH,))\n",
    "se1 = Embedding(VOCAB_SIZE, TEXT_EMBED_DIMENSION, mask_zero=True)(inputs2)\n",
    "se2 = LSTM(256, return_sequences = True)(se1)\n",
    "se3 = Dropout(0.5)(se2)\n",
    "se4 = LSTM(128)(se3)\n",
    "\n",
    "# Add a dense head to do a classification in the final layer after LSTM\n",
    "# Add batch normalization for faster training and also dropout to \n",
    "# have a good regularization effect\n",
    "fc1 = add([fe2, se4])\n",
    "bn1 = BatchNormalization()(fc1)\n",
    "fc2 = Dense(128, activation='relu')(bn1)\n",
    "decoder2 = Dropout(0.5)(fc2)\n",
    "bn2 = BatchNormalization()(decoder2)\n",
    "outputs = Dense(VOCAB_SIZE, activation='softmax')(bn2)\n",
    "caption_model = Model(inputs=[inputs1, inputs2], outputs=outputs)"
   ]
  },
  {
   "cell_type": "code",
   "execution_count": null,
   "id": "7bfee805-8fd6-4a71-a008-2ec499ee8fc7",
   "metadata": {},
   "outputs": [
    {
     "name": "stdout",
     "output_type": "stream",
     "text": [
      "Model: \"model\"\n",
      "__________________________________________________________________________________________________\n",
      " Layer (type)                   Output Shape         Param #     Connected to                     \n",
      "==================================================================================================\n",
      " input_3 (InputLayer)           [(None, 7)]          0           []                               \n",
      "                                                                                                  \n",
      " embedding (Embedding)          (None, 7, 32)        576         ['input_3[0][0]']                \n",
      "                                                                                                  \n",
      " input_2 (InputLayer)           [(None, 2048)]       0           []                               \n",
      "                                                                                                  \n",
      " lstm (LSTM)                    (None, 7, 256)       295936      ['embedding[0][0]']              \n",
      "                                                                                                  \n",
      " dropout (Dropout)              (None, 2048)         0           ['input_2[0][0]']                \n",
      "                                                                                                  \n",
      " dropout_1 (Dropout)            (None, 7, 256)       0           ['lstm[0][0]']                   \n",
      "                                                                                                  \n",
      " dense (Dense)                  (None, 128)          262272      ['dropout[0][0]']                \n",
      "                                                                                                  \n",
      " lstm_1 (LSTM)                  (None, 128)          197120      ['dropout_1[0][0]']              \n",
      "                                                                                                  \n",
      " add (Add)                      (None, 128)          0           ['dense[0][0]',                  \n",
      "                                                                  'lstm_1[0][0]']                 \n",
      "                                                                                                  \n",
      " batch_normalization (BatchNorm  (None, 128)         512         ['add[0][0]']                    \n",
      " alization)                                                                                       \n",
      "                                                                                                  \n",
      " dense_1 (Dense)                (None, 128)          16512       ['batch_normalization[0][0]']    \n",
      "                                                                                                  \n",
      " dropout_2 (Dropout)            (None, 128)          0           ['dense_1[0][0]']                \n",
      "                                                                                                  \n",
      " batch_normalization_1 (BatchNo  (None, 128)         512         ['dropout_2[0][0]']              \n",
      " rmalization)                                                                                     \n",
      "                                                                                                  \n",
      " dense_2 (Dense)                (None, 18)           2322        ['batch_normalization_1[0][0]']  \n",
      "                                                                                                  \n",
      "==================================================================================================\n",
      "Total params: 775,762\n",
      "Trainable params: 775,250\n",
      "Non-trainable params: 512\n",
      "__________________________________________________________________________________________________\n"
     ]
    }
   ],
   "source": [
    "# Have a look at the model summary\n",
    "caption_model.summary()"
   ]
  },
  {
   "cell_type": "markdown",
   "id": "d13ca5eb-5360-4e6a-86eb-6a3215567365",
   "metadata": {},
   "source": [
    "# Model Compilation\n",
    "\n",
    "- Classification problem i.e. next most likely alphabet is going to be the class that needs to be predicted based on the given input, hence using `Categorical Cross Entropy` as the loss function\n",
    "- Optimizer used is Adam with a learning rate of 0.001; learning rate is the default one, we tried other lrs as well  but this one was giving a steeper decrease in loss (as opposed to rmsprop) so we chose this combination of lr and optimizer."
   ]
  },
  {
   "cell_type": "code",
   "execution_count": null,
   "id": "f8889509-cec9-4f57-9bc1-bcd09e66127e",
   "metadata": {},
   "outputs": [],
   "source": [
    "# Set the weights of embeding layer to the ones we defined above\n",
    "# Keep them trainable only since we're randomly initializing them and not loading them\n",
    "# from any set of pretrained weights like glove/word2vec etx.\n",
    "caption_model.layers[1].set_weights([embedding_matrix])\n",
    "caption_model.compile(loss = 'categorical_crossentropy', \n",
    "                      optimizer = Adam(learning_rate = 1e-3))"
   ]
  },
  {
   "cell_type": "code",
   "execution_count": null,
   "id": "017992fd-23bd-4bdc-95f9-0f2ac16b9a30",
   "metadata": {},
   "outputs": [],
   "source": [
    "# Defining N and N_TEST will allow us to do experiments with small sets of data\n",
    "# and then we can use the entire dataset for our experiments\n",
    "N = len(train_labels) # 1000\n",
    "N_TEST = len(test_labels) # 1000\n",
    "\n",
    "train_gen = data_generator(train_labels[:N], train_embeds[:N], alphabet_to_idx, \n",
    "                           MAX_SEQUENCE_LENGTH, BATCH_SIZE)\n",
    "test_gen = data_generator(test_labels[:N_TEST], test_embeds[:N_TEST], alphabet_to_idx, \n",
    "                          MAX_SEQUENCE_LENGTH, BATCH_SIZE)"
   ]
  },
  {
   "cell_type": "markdown",
   "id": "f8395175-a108-40f4-9c09-596150492876",
   "metadata": {},
   "source": [
    "Look at one batch of the training generator and tensor shapes and ascertain that they're indeed the correct shapes or not"
   ]
  },
  {
   "cell_type": "code",
   "execution_count": null,
   "id": "30eda6f2-c370-4578-a80c-b0ddc1f2b27f",
   "metadata": {},
   "outputs": [
    {
     "data": {
      "text/plain": [
       "((157, 2048), (157, 7), (157, 18))"
      ]
     },
     "execution_count": null,
     "metadata": {},
     "output_type": "execute_result"
    }
   ],
   "source": [
    "out = next(iter(train_gen))\n",
    "(image_embeddings, text_seq), lbls = out[0], out[1]\n",
    "image_embeddings.shape, text_seq.shape, lbls.shape"
   ]
  },
  {
   "cell_type": "markdown",
   "id": "a3a1da95-0b7f-476c-a233-11b348984535",
   "metadata": {},
   "source": [
    "# Model Training"
   ]
  },
  {
   "cell_type": "code",
   "execution_count": null,
   "id": "af473af9-1387-4139-a13e-51c93d6d11e8",
   "metadata": {},
   "outputs": [
    {
     "name": "stdout",
     "output_type": "stream",
     "text": [
      "Epoch 1/12\n",
      "1875/1875 [==============================] - 124s 61ms/step - loss: 0.2775 - val_loss: 0.0673\n",
      "Epoch 2/12\n",
      "1875/1875 [==============================] - 112s 59ms/step - loss: 0.1047 - val_loss: 0.0579\n",
      "Epoch 3/12\n",
      "1875/1875 [==============================] - 111s 59ms/step - loss: 0.0918 - val_loss: 0.0545\n",
      "Epoch 4/12\n",
      "1875/1875 [==============================] - 103s 55ms/step - loss: 0.0848 - val_loss: 0.0500\n",
      "Epoch 5/12\n",
      "1875/1875 [==============================] - 103s 55ms/step - loss: 0.0804 - val_loss: 0.0500\n",
      "Epoch 6/12\n",
      "1875/1875 [==============================] - 103s 55ms/step - loss: 0.0763 - val_loss: 0.0493\n",
      "Epoch 7/12\n",
      "1875/1875 [==============================] - 100s 53ms/step - loss: 0.0741 - val_loss: 0.0477\n",
      "Epoch 8/12\n",
      "1875/1875 [==============================] - 100s 53ms/step - loss: 0.0712 - val_loss: 0.0474\n",
      "Epoch 9/12\n",
      "1875/1875 [==============================] - 100s 53ms/step - loss: 0.0705 - val_loss: 0.0430\n",
      "Epoch 10/12\n",
      "1875/1875 [==============================] - 100s 53ms/step - loss: 0.0678 - val_loss: 0.0432\n",
      "Epoch 11/12\n",
      "1875/1875 [==============================] - 100s 53ms/step - loss: 0.0663 - val_loss: 0.0425\n",
      "Epoch 12/12\n",
      "1875/1875 [==============================] - 100s 53ms/step - loss: 0.0661 - val_loss: 0.0457\n"
     ]
    }
   ],
   "source": [
    "# Take a modest batch size \n",
    "# Define how many batches are there in an epoch, this is for the generator to understand when an epoch is complete\n",
    "# Take advantage of multiprocessing to load the data in memory\n",
    "# Display the training logs and perform validation on a test set at the end of every epoch\n",
    "import time\n",
    "start = time.time()\n",
    "BATCH_SIZE = 32\n",
    "train_steps = N // BATCH_SIZE\n",
    "test_steps = N_TEST // BATCH_SIZE\n",
    "history_part_one = caption_model.fit(train_gen, \n",
    "                                     use_multiprocessing = True, \n",
    "                                     epochs = EPOCHS, \n",
    "                                     steps_per_epoch = train_steps,\n",
    "                                     validation_data = test_gen,\n",
    "                                     validation_steps = test_steps,\n",
    "                                     verbose = 1)"
   ]
  },
  {
   "cell_type": "code",
   "execution_count": null,
   "id": "a5248374-565e-49ad-935f-0357248f84de",
   "metadata": {},
   "outputs": [
    {
     "name": "stdout",
     "output_type": "stream",
     "text": [
      "Epoch 1/12\n",
      "1875/1875 [==============================] - 61s 33ms/step - loss: 0.0614 - val_loss: 0.0400\n",
      "Epoch 2/12\n",
      "1875/1875 [==============================] - 27s 14ms/step - loss: 0.0583 - val_loss: 0.0381\n",
      "Epoch 3/12\n",
      "1875/1875 [==============================] - 44s 23ms/step - loss: 0.0585 - val_loss: 0.0378\n",
      "Epoch 4/12\n",
      "1875/1875 [==============================] - 100s 53ms/step - loss: 0.0577 - val_loss: 0.0400\n",
      "Epoch 5/12\n",
      "1875/1875 [==============================] - 100s 54ms/step - loss: 0.0567 - val_loss: 0.0381\n",
      "Epoch 6/12\n",
      "1875/1875 [==============================] - 100s 54ms/step - loss: 0.0556 - val_loss: 0.0370\n",
      "Epoch 7/12\n",
      "1875/1875 [==============================] - 100s 53ms/step - loss: 0.0555 - val_loss: 0.0374\n",
      "Epoch 8/12\n",
      "1875/1875 [==============================] - 100s 54ms/step - loss: 0.0546 - val_loss: 0.0379\n",
      "Epoch 9/12\n",
      "1875/1875 [==============================] - 100s 53ms/step - loss: 0.0549 - val_loss: 0.0370\n",
      "Epoch 10/12\n",
      "1875/1875 [==============================] - 100s 53ms/step - loss: 0.0544 - val_loss: 0.0375\n",
      "Epoch 11/12\n",
      "1875/1875 [==============================] - 100s 54ms/step - loss: 0.0539 - val_loss: 0.0363\n",
      "Epoch 12/12\n",
      "1875/1875 [==============================] - 100s 53ms/step - loss: 0.0527 - val_loss: 0.0366\n"
     ]
    }
   ],
   "source": [
    "# Reduce the learning rate after some epochs for stabilizing the learning\n",
    "caption_model.optimizer.lr = 5e-4\n",
    "history_part_two = caption_model.fit(train_gen, \n",
    "                                     use_multiprocessing = True, \n",
    "                                     epochs = EPOCHS, \n",
    "                                     steps_per_epoch = train_steps,\n",
    "                                     validation_data = test_gen,\n",
    "                                     validation_steps = test_steps,\n",
    "                                     verbose = 1)"
   ]
  },
  {
   "cell_type": "code",
   "execution_count": null,
   "id": "3fe8f199-3096-4316-8398-19e7702df26b",
   "metadata": {},
   "outputs": [
    {
     "name": "stdout",
     "output_type": "stream",
     "text": [
      "Epoch 1/12\n",
      "1875/1875 [==============================] - 100s 54ms/step - loss: 0.0513 - val_loss: 0.0347\n",
      "Epoch 2/12\n",
      "1875/1875 [==============================] - 100s 53ms/step - loss: 0.0499 - val_loss: 0.0348\n",
      "Epoch 3/12\n",
      "1875/1875 [==============================] - 101s 54ms/step - loss: 0.0493 - val_loss: 0.0346\n",
      "Epoch 4/12\n",
      "1875/1875 [==============================] - 100s 54ms/step - loss: 0.0488 - val_loss: 0.0341\n",
      "Epoch 5/12\n",
      "1875/1875 [==============================] - 101s 54ms/step - loss: 0.0481 - val_loss: 0.0341\n",
      "Epoch 6/12\n",
      "1875/1875 [==============================] - 101s 54ms/step - loss: 0.0485 - val_loss: 0.0342\n",
      "Epoch 7/12\n",
      "1875/1875 [==============================] - 103s 55ms/step - loss: 0.0489 - val_loss: 0.0340\n",
      "Epoch 8/12\n",
      "1875/1875 [==============================] - 112s 60ms/step - loss: 0.0490 - val_loss: 0.0340\n",
      "Epoch 9/12\n",
      "1875/1875 [==============================] - 112s 60ms/step - loss: 0.0483 - val_loss: 0.0338\n",
      "Epoch 10/12\n",
      "1875/1875 [==============================] - 111s 59ms/step - loss: 0.0471 - val_loss: 0.0339\n",
      "Epoch 11/12\n",
      "1875/1875 [==============================] - 113s 60ms/step - loss: 0.0484 - val_loss: 0.0338\n",
      "Epoch 12/12\n",
      "1875/1875 [==============================] - 113s 60ms/step - loss: 0.0476 - val_loss: 0.0336\n"
     ]
    }
   ],
   "source": [
    "# Reduce the learning rate even more and train for more epochs\n",
    "caption_model.optimizer.lr = 1e-4\n",
    "history_part_three = caption_model.fit(train_gen, \n",
    "                                     use_multiprocessing = True, \n",
    "                                     epochs = EPOCHS, \n",
    "                                     steps_per_epoch = train_steps,\n",
    "                                     validation_data = test_gen,\n",
    "                                     validation_steps = test_steps,\n",
    "                                     verbose = 1)"
   ]
  },
  {
   "cell_type": "code",
   "execution_count": null,
   "id": "07483346-f80e-4c71-aa1f-6d26b54afece",
   "metadata": {},
   "outputs": [
    {
     "name": "stdout",
     "output_type": "stream",
     "text": [
      "Training time: 3590.069 seconds\n"
     ]
    }
   ],
   "source": [
    "train_time = time.time() - start\n",
    "print(f\"Training time: {train_time:.3f} seconds\")"
   ]
  },
  {
   "cell_type": "code",
   "execution_count": null,
   "id": "5c1da7d2-c944-415e-8e8b-b87bf35e9311",
   "metadata": {},
   "outputs": [
    {
     "data": {
      "image/png": "[encoded data removed]",
      "text/plain": [
       "<Figure size 1080x288 with 2 Axes>"
      ]
     },
     "metadata": {
      "needs_background": "light"
     },
     "output_type": "display_data"
    }
   ],
   "source": [
    "# Plot the loss curves\n",
    "\n",
    "# Train loss\n",
    "train_loss = history_part_one.history[\"loss\"] + history_part_two.history[\"loss\"] + history_part_three.history[\"loss\"]\n",
    "train_minibatch_index = range(len(train_loss))\n",
    "tr_break1 = len(train_loss) // 3; tr_break2 = 2 * len(train_loss) // 3\n",
    "\n",
    "# Valid loss\n",
    "valid_loss = history_part_one.history[\"val_loss\"] + history_part_two.history[\"val_loss\"] + history_part_three.history[\"val_loss\"]\n",
    "valid_minibatch_index = range(len(valid_loss))\n",
    "vl_break1 = len(valid_loss) // 3; vl_break2 = 2 * len(valid_loss) // 3\n",
    "\n",
    "fig, ax = plt.subplots(1, 2, figsize = (15,4), sharey = True)\n",
    "# Plot train loss and validation loss with different colors\n",
    "ax[0].plot(train_minibatch_index, train_loss)#, color = \"r\")\n",
    "ax[1].plot(valid_minibatch_index, valid_loss)#, color = \"b\")\n",
    "\n",
    "ax[0].axvline(tr_break1, linestyle = \"dashdot\", color = \"b\")\n",
    "ax[0].axvline(tr_break2, linestyle = \"dashdot\", color = \"b\")\n",
    "\n",
    "ax[1].axvline(vl_break1, linestyle = \"dashdot\", color = \"b\")\n",
    "ax[1].axvline(vl_break2, linestyle = \"dashdot\", color = \"b\")\n",
    "\n",
    "ax[0].set_title(\"Train Loss Profile across 30 epochs\")\n",
    "ax[1].set_title(\"Validation Loss Profile across 30 epochs\");"
   ]
  },
  {
   "cell_type": "code",
   "execution_count": null,
   "id": "a25a81d5-458c-4e69-b5b6-d4187787c849",
   "metadata": {},
   "outputs": [],
   "source": [
    "# Save the training stats\n",
    "# pickle.dump({\"train_loss\": train_loss, \"valid_loss\": valid_loss, \"epoch\": EPOCHS}, open(\"data/loss_profile.pkl\", \"wb\"))"
   ]
  },
  {
   "cell_type": "code",
   "execution_count": null,
   "id": "c4cc29e2-07a4-4620-835a-7f48caac5b61",
   "metadata": {},
   "outputs": [],
   "source": [
    "# Save the model to disk\n",
    "caption_model.save_weights(\"models/alphabet_caption_generation_15_epochs_with_bn.h5\")"
   ]
  },
  {
   "cell_type": "code",
   "execution_count": null,
   "id": "8d6d0f2b-184f-48e0-8592-99398ca3a9b6",
   "metadata": {},
   "outputs": [],
   "source": [
    "# caption_model.load_weights(\"models/alphabet_caption_generation.h5\")"
   ]
  },
  {
   "cell_type": "markdown",
   "id": "efee510a-822c-452b-a168-d0cd8065c397",
   "metadata": {},
   "source": [
    "# Model Evaluation"
   ]
  },
  {
   "cell_type": "markdown",
   "id": "52ef2b30-96ab-4cfc-b325-5152a7a37e3c",
   "metadata": {},
   "source": [
    "I have curated a test set by using a GAN model obtained from kaggle which generates MNIST images and a few more by manually drawing on a black canvas, they're as follows. Let's evaluate on this test set!\n",
    "\n",
    "<img src=\"https://i.imgur.com/e9FWTaZ.png\">"
   ]
  },
  {
   "cell_type": "code",
   "execution_count": null,
   "id": "ac7e0cef-ecd8-4597-92cf-c2aecf010769",
   "metadata": {},
   "outputs": [],
   "source": [
    "# from pathlib import Path\n",
    "# for sample in Path(\"samples/\").glob(\"*\"):\n",
    "#     if sample.is_file():\n",
    "#         PIL.Image.open(sample).convert(\"L\").resize((28,28)).save(sample)"
   ]
  },
  {
   "cell_type": "code",
   "execution_count": null,
   "id": "72df10bf-12d2-473c-8022-8375be66caed",
   "metadata": {},
   "outputs": [],
   "source": [
    "# Define a function to get the encoded representation for the image\n",
    "def get_encoder():\n",
    "    new_input = Input(shape=(28, 28, 3))\n",
    "    res = ResNet50(include_top=False, input_tensor=new_input)\n",
    "    return res\n",
    "\n",
    "# Get the embedding using encoder defined above\n",
    "def get_embedding(img_pth, encoder):\n",
    "    img = np.array(PIL.Image.open(img_pth).convert(\"RGB\"))\n",
    "    image = img.reshape((1, *img.shape))\n",
    "    return encoder.predict(image, verbose = 0)[0][0]"
   ]
  },
  {
   "cell_type": "code",
   "execution_count": null,
   "id": "25465bc6-1f4f-46df-aaa5-013addb10552",
   "metadata": {},
   "outputs": [],
   "source": [
    "# Given the image embedding, define a function to generate the caption for \n",
    "def generateCaption(img_embed):\n",
    "    \n",
    "    # Start with the image embedding and the startseq tag\n",
    "    in_text = START\n",
    "    \n",
    "    # Loop over for as much length as the max sequence length\n",
    "    for i in range(MAX_SEQUENCE_LENGTH):\n",
    "        \n",
    "        # Start with only the start seq and iteratively feed subsequent alphabets/tokens into the in_text word \n",
    "        sequence = [alphabet_to_idx[w] for w in in_text.split() if w in alphabet_to_idx]\n",
    "        sequence = pad_sequences([sequence], maxlen = MAX_SEQUENCE_LENGTH, padding = \"post\")\n",
    "        \n",
    "        # Give the image embedding and sequence and predict the next alphabet/token\n",
    "        yhat = caption_model.predict([img_embed, sequence], verbose=0)\n",
    "        yhat = np.argmax(yhat)\n",
    "        alphabet = idx_to_alphabet[yhat]\n",
    "        in_text += ' ' + alphabet\n",
    "        \n",
    "        # If we reach the end of sequence, stop the generation\n",
    "        if alphabet == STOP:\n",
    "            break\n",
    "    \n",
    "    # Remove the start and stop tokens and then give the output\n",
    "    final = in_text.split()\n",
    "    if final[-1] == STOP: final = final[1:-1]\n",
    "    else: final = final[1:]\n",
    "    \n",
    "    # Join the tokens with space separation to point the individual tokens apart\n",
    "    final = ' '.join(final)\n",
    "    return final"
   ]
  },
  {
   "cell_type": "code",
   "execution_count": null,
   "id": "cf8785e1-f799-4266-ab33-896d4468c901",
   "metadata": {},
   "outputs": [
    {
     "name": "stderr",
     "output_type": "stream",
     "text": [
      "100%|██████████| 21/21 [00:16<00:00,  1.27it/s]\n"
     ]
    }
   ],
   "source": [
    "# Get the encoder\n",
    "encoder = get_encoder()\n",
    "\n",
    "# Get a list of unseen samples which we have generated using a GAN and handwritten images\n",
    "# To check the generalization performance\n",
    "unseen_samples = sorted(list(Path(\"samples\").glob(\"*\")), key = lambda x: x.stem)\n",
    "unseen_map = {}\n",
    "\n",
    "# Make a map of the generated caption against the input sample's name\n",
    "for sample in tqdm(unseen_samples, total = len(unseen_samples)):\n",
    "    if (sample.is_file()) and (not sample.parent.name.startswith(\".\")):\n",
    "        embed = get_embedding(sample, encoder)\n",
    "        caption = generateCaption(embed)\n",
    "        unseen_map[sample.name] = caption"
   ]
  },
  {
   "cell_type": "code",
   "execution_count": null,
   "id": "2eb2dc72-213e-4169-8e83-7e0277765e0d",
   "metadata": {},
   "outputs": [],
   "source": [
    "# Segregate GAN and hand written number images apart\n",
    "GAN_imgs = [x for x in unseen_map.keys() if x.startswith(\"GAN\")]\n",
    "hand_imgs = [x for x in unseen_map.keys() if x.startswith(\"hand\")]"
   ]
  },
  {
   "cell_type": "markdown",
   "id": "ca778fe8-65d5-42f5-b8f2-d5d759d9e352",
   "metadata": {},
   "source": [
    "**BLEU Score computation**\n",
    "\n",
    "Instead of using accuracy or f1-score or any other classification metrics, for text generation, `BLEU Score` is a more commonly used metric. Hence using this instead for model evaluation.\n",
    "\n",
    "Also, in CANVAS, Seetha ma'am had approved the use of this metric over others for evaluation; hence using this metric."
   ]
  },
  {
   "cell_type": "code",
   "execution_count": null,
   "id": "d88ae1eb-a203-4b25-9001-9a28fd04a339",
   "metadata": {},
   "outputs": [
    {
     "data": {
      "image/png": "[encoded data removed]",
      "text/plain": [
       "<Figure size 720x360 with 10 Axes>"
      ]
     },
     "metadata": {},
     "output_type": "display_data"
    }
   ],
   "source": [
    "# Show the GAN output\n",
    "fig, ax = plt.subplots(2, 5, figsize = (10,5))\n",
    "for name, a in zip(GAN_imgs, ax.flat):\n",
    "    prediction = unseen_map[name]\n",
    "    a.imshow(PIL.Image.open(f\"samples/{name}\"), cmap = \"gray\")\n",
    "    a.set_xticks([]); a.set_yticks([]);\n",
    "    \n",
    "    # Compute BLEU Score    \n",
    "    temp = name.split(\".\")[0].split(\"_\")[-1]\n",
    "    ground_truth = output_map[int(temp)]\n",
    "    reference_chars = max(len(ground_truth) - 2, len(prediction.split()))\n",
    "    weights = [1/reference_chars] * reference_chars\n",
    "    score = sentence_bleu([ground_truth[1:-1]] ,prediction.split(\" \"), weights = weights)\n",
    "    \n",
    "    # Display the score along with the image name and caption/prediction  \n",
    "    a.set_title(f\"{name}\\nCaption: {prediction}\\nBLEU: {score:.3f}\", fontsize = 10)"
   ]
  },
  {
   "cell_type": "code",
   "execution_count": null,
   "id": "ac36c50c-3fb7-49f7-9b88-e34fa54bfb34",
   "metadata": {},
   "outputs": [
    {
     "data": {
      "image/png": "[encoded data removed]",
      "text/plain": [
       "<Figure size 720x360 with 10 Axes>"
      ]
     },
     "metadata": {},
     "output_type": "display_data"
    }
   ],
   "source": [
    "# Show the handwritten output\n",
    "fig, ax = plt.subplots(2, 5, figsize = (10,5))\n",
    "for name, a in zip(hand_imgs, ax.flat):\n",
    "    prediction = unseen_map[name]\n",
    "    a.imshow(PIL.Image.open(f\"samples/{name}\"), cmap = \"gray\")\n",
    "    a.set_xticks([]); a.set_yticks([]);\n",
    "    \n",
    "    # Compute BLEU Score    \n",
    "    temp = name.split(\".\")[0].split(\"_\")[-1]\n",
    "    ground_truth = output_map[int(temp)]\n",
    "    reference_chars = max(len(ground_truth) - 2, len(prediction.split()))\n",
    "    weights = [1/reference_chars] * reference_chars\n",
    "    score = sentence_bleu([ground_truth[1:-1]] ,prediction.split(\" \"), weights = weights)\n",
    "    \n",
    "    # Display the score along with the image name and caption/prediction  \n",
    "    a.set_title(f\"{name}\\nCaption: {prediction}\\nBLEU: {score:.3f}\", fontsize = 10)"
   ]
  },
  {
   "cell_type": "markdown",
   "id": "3734c59c-c472-41ae-be3e-edde9e845bc1",
   "metadata": {},
   "source": [
    "# Conclusion\n",
    "\n",
    "We built a model that embeds images in a latent space, and subsequently accepts tokens and builds upon the same using an LSTM to get a word from the image.\n",
    "\n",
    "We saw that the resulting model works well on images in the same distribution however it doesn't perform so well on out of distribution images i.e. handdrawn images with a thin pen of slightly different font. This means our model is very sensitive and we need to show our model more examples of the same to make it work well on different distribution data\n",
    "\n",
    "# References\n",
    "1. [Generation of MNIST Images GAN](https://www.kaggle.com/code/zhoulingyan0228/generating-mnist-gan)\n",
    "2. [Image captioning by Jeff Heaton](https://www.youtube.com/watch?v=NmoW_AYWkb4)\n",
    "3. [Github notebook for image captioning](https://github.com/jeffheaton/t81_558_deep_learning/blob/8466852fb7f85bc816dbd08102c10209d4719b16/t81_558_class_10_4_captioning.ipynb)"
   ]
  }
 ],
 "metadata": {
  "kernelspec": {
   "display_name": "Python 3 (ipykernel)",
   "language": "python",
   "name": "python3"
  }
 },
 "nbformat": 4,
 "nbformat_minor": 5
}
