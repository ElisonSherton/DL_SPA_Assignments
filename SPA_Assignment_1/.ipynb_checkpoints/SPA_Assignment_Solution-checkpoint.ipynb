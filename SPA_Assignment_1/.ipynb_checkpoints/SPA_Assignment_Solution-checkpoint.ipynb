{
 "cells": [
  {
   "cell_type": "markdown",
   "id": "4ed0ae90-6f15-43ea-bed5-8e4d1b341b7d",
   "metadata": {},
   "source": [
    "# SPA Assignment 1\n",
    "\n",
    "**Group Number 97**\n",
    "\n",
    "|No.|Member|Student ID|\n",
    "|--|--|--|\n",
    "|1|Shreysi Kalra|2021fc04586|\n",
    "|2|Vinayak Nayak|2021fc04135|\n",
    "|3|Ajith Praveen R|2021fc04329|\n",
    "\n",
    "\n",
    "**Streaming Analytics**\n",
    "\n",
    "\n",
    "You are appointed as a Streaming Analytics expert for a firm which is looking for utilizing the solutions / platforms available from the Streaming Analytics space. As the firms maturity level in the big data space is at very nascent stage, you need to help them to understand how Streaming Analytics is helpful in their several use cases and also further on identifying the various options of tools and platforms those can be leveraged for this activity. \n",
    "\n",
    "Amazon Web Service (AWS) is leading player in the space of cloud computing. They have developed a special cloud service named “Amazon Kinesis” exclusively for handling various streaming analytics use cases in very simpler manner. To introduce these services to the world, they also have prepared a nice documentation – part of which also contains the white paper. You can refer to this white paper which can help you while interacting with the client. "
   ]
  },
  {
   "cell_type": "markdown",
   "id": "a934c047-4f96-4ab0-8626-3558b60033fe",
   "metadata": {},
   "source": [
    "# Question\n",
    "\n",
    "You need to introduce the client with several examples where streaming analytics has already been used. For that purpose, you need to formulate one example of each type of Real-time application scenarios mentioned in the white paper.  \n",
    "- The example should be different from the ones discussed in the document\n",
    "- Narration should have \n",
    "  - brief description of the use case scenario\n",
    "  - short explanation about how it can leverage streaming analytics solutions / platforms\n",
    "  - justification about how it falls under the particular category"
   ]
  },
  {
   "cell_type": "code",
   "execution_count": null,
   "id": "5b78fa18-efec-4ba2-b2f5-f63317747da2",
   "metadata": {},
   "outputs": [],
   "source": []
  },
  {
   "cell_type": "markdown",
   "id": "3e06e706-6816-4c03-8520-2f54bac29ee5",
   "metadata": {},
   "source": [
    "# Question\n",
    "\n",
    "You are in a meeting with the firm’s management who are little bit concerned about the challenges associated with streaming analytics. The white paper describes few challenges faced while adapting the streaming analytics. In order to assist the client \n",
    "-  Briefly narrate the four critical challenges in your own words \n",
    "-  Identify the different tools that can be used to resolve / mitigate those challenges\n",
    "-  Address how each of the challenge is resolved with the tools / platforms identified"
   ]
  },
  {
   "cell_type": "code",
   "execution_count": null,
   "id": "1b760d79-9e9c-4b10-89e5-487fc63798f6",
   "metadata": {},
   "outputs": [],
   "source": []
  },
  {
   "cell_type": "markdown",
   "id": "eb665792-f349-4915-90dc-1b84546c7ac3",
   "metadata": {},
   "source": [
    "# Question\n",
    "\n",
    "The white paper discusses three different use cases which the toll station company has addressed using streaming data. But the solution is described in terms of various cloud services offered by AWS. The client does not have the knowledge about the cloud computing and AWS. In fact all the three use cases can be very well addressed with a general architecture used in the big data analytics and streaming analytics. You need to work upon helping client to understand those common architectures.  \n",
    "- Identify the architecture that can be fitted well for capturing all three use cases \n",
    "- Convert the final architecture diagram provided by AWS team into an architecture diagram based upon your answer to earlier question\n",
    "- Take care that all three cases should be vividly coming out of the architecture diagram, if required add brief description about each flow"
   ]
  },
  {
   "cell_type": "code",
   "execution_count": null,
   "id": "929876af-fa40-4c15-8238-f4ac06c4802f",
   "metadata": {},
   "outputs": [],
   "source": []
  },
  {
   "cell_type": "markdown",
   "id": "a393878a-e076-46ff-955c-4b548ec81d6d",
   "metadata": {},
   "source": [
    "# Question\n",
    "\n",
    "The client is now impressed with the capabilities of the AWS and how it’s streamlining the application development and deployment. But they also want to discover more on the open source tools / platforms that can be leveraged. As a result, you need to work upon identifying the open source tools for each of the use case. \n",
    "- For each of the use case\n",
    "  - Identify the tools / platforms that can be used to solve it\n",
    "  - Draw a solution diagram using the tools identified in earlier question the flow should come out clearly from the solution diagram"
   ]
  },
  {
   "cell_type": "markdown",
   "id": "1e1d34db-61e0-4328-b226-2169958cb1ef",
   "metadata": {},
   "source": [
    "Open Source Alternatives to the services used in the above architecture diagram are as follows\n",
    "\n",
    "|AWS Service|Opensource Service|\n",
    "|--|--|\n",
    "|AWS S3|  HDFS |\n",
    "|AWS Kinesis| Apache Kafka|\n",
    "|AWS Kinesis Data Analytics| Apache Druid|\n",
    "|DynamoDB| MongoDB/MongoDB Atlas|\n",
    "|AWS Lambda| Dedicated On Prem Servers|\n",
    "|AWS Redshift| PostGreSQL|\n",
    "\n",
    "The final solution diagram after incorporating the above services looks as follows:\n",
    "![](open_source_framework.svg)"
   ]
  }
 ],
 "metadata": {
  "kernelspec": {
   "display_name": "Python 3 (ipykernel)",
   "language": "python",
   "name": "python3"
  }
 },
 "nbformat": 4,
 "nbformat_minor": 5
}
