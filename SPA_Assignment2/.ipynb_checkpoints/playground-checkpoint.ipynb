{
 "cells": [
  {
   "cell_type": "code",
   "execution_count": null,
   "id": "1b384ac0-1a92-43c5-8bbe-790d9703612a",
   "metadata": {},
   "outputs": [],
   "source": [
    "# Subscribe to both topics order buy and order sell\n",
    "# Run the logic to create match and execute transactions\n",
    "\n",
    "import random, pickle\n",
    "from datetime import datetime, timedelta\n",
    "from order_generation_utils import *\n",
    "random.seed(42)\n",
    "from collections import Counter\n",
    "import pandas as pd\n",
    "from tqdm import tqdm\n",
    "\n",
    "ORDER_INFO = \"order_info.pkl\""
   ]
  },
  {
   "cell_type": "code",
   "execution_count": null,
   "id": "313d0d7a-27fc-4ccc-9ce2-786080a19854",
   "metadata": {},
   "outputs": [],
   "source": [
    "order_data = pickle.load(open(ORDER_INFO, \"rb\"))"
   ]
  },
  {
   "cell_type": "code",
   "execution_count": null,
   "id": "d2e890e9-f239-4cf1-adb6-b209396ac0c5",
   "metadata": {},
   "outputs": [
    {
     "data": {
      "text/plain": [
       "datetime.datetime(2023, 2, 28, 9, 30)"
      ]
     },
     "execution_count": null,
     "metadata": {},
     "output_type": "execute_result"
    }
   ],
   "source": [
    "getattr(order_data[0], 'bid_time')"
   ]
  },
  {
   "cell_type": "code",
   "execution_count": null,
   "id": "f86d69cd-6ead-4ff4-b885-4c3534f52dbb",
   "metadata": {},
   "outputs": [
    {
     "name": "stdout",
     "output_type": "stream",
     "text": [
      "BIDDER: Vinayak | INSTRUMENT: Rakuten | BID TYPE: Buy | BID TIME: 09-30-00| BID PRICE:  398 INR| STATUS: ACTIVE   | TRANSACTION_TIME: None\n"
     ]
    }
   ],
   "source": [
    "print(order_data[0])"
   ]
  },
  {
   "cell_type": "code",
   "execution_count": null,
   "id": "16a23114-d0ae-4197-8b77-b0a70df2191d",
   "metadata": {},
   "outputs": [],
   "source": [
    "buy_orders = [x for x in order_data if x.bid_type == \"Buy\"]\n",
    "sell_orders = [x for x in order_data if x.bid_type == \"Sell\"]"
   ]
  },
  {
   "cell_type": "code",
   "execution_count": null,
   "id": "c7e0337a-aa08-4a45-8382-f481e22d7a31",
   "metadata": {},
   "outputs": [],
   "source": [
    "instruments = set([x.bid_instrument for x in order_data])\n",
    "entities = set([x.bidder for x in order_data])"
   ]
  },
  {
   "cell_type": "code",
   "execution_count": null,
   "id": "492f2dc8-b738-4c6f-a64b-7fcf396c818d",
   "metadata": {},
   "outputs": [
    {
     "name": "stdout",
     "output_type": "stream",
     "text": [
      "['__class__', '__delattr__', '__dict__', '__dir__', '__doc__', '__eq__', '__format__', '__ge__', '__getattribute__', '__gt__', '__hash__', '__init__', '__init_subclass__', '__le__', '__lt__', '__module__', '__ne__', '__new__', '__reduce__', '__reduce_ex__', '__repr__', '__setattr__', '__sizeof__', '__str__', '__subclasshook__', '__weakref__', 'bid_instrument', 'bid_price', 'bid_status', 'bid_time', 'bid_type', 'bidder', 'transaction_time']\n"
     ]
    }
   ],
   "source": [
    "print(dir(order_data[0]))"
   ]
  },
  {
   "cell_type": "code",
   "execution_count": null,
   "id": "37ccfe2e-6d06-4809-bf40-c24b2c96cb90",
   "metadata": {},
   "outputs": [],
   "source": [
    "order_data = pickle.load(open(ORDER_INFO, \"rb\"))"
   ]
  },
  {
   "cell_type": "code",
   "execution_count": null,
   "id": "fd10f127-71b1-4c6f-a566-8c83b6af5648",
   "metadata": {},
   "outputs": [],
   "source": [
    "def resolve_instrument(orders, instrument):\n",
    "    trades = []\n",
    "    i_buy = [x for x in orders if ((x.bid_instrument == instrument) and (x.bid_type == \"Buy\"))]\n",
    "    i_sell = [x for x in orders if ((x.bid_instrument == instrument) and (x.bid_type == \"Sell\"))]\n",
    "    \n",
    "    for sell_order in tqdm(i_sell, total = len(i_sell), desc = f\"Matchmaking for {instrument}\"):\n",
    "        if sell_order.bid_status != \"ACTIVE\":\n",
    "            continue\n",
    "        older_buys = [x for x in i_buy if sell_order.bid_time >= x.bid_time]\n",
    "        older_buys = sorted(older_buys, key = lambda x: x.bid_time)\n",
    "        for buy_order in older_buys:\n",
    "            \n",
    "            if buy_order.bid_status != \"ACTIVE\":\n",
    "                continue\n",
    "            \n",
    "            if buy_order.bid_price == sell_order.bid_price:\n",
    "                transact_time = max(buy_order.bid_time, sell_order.bid_time)\n",
    "                \n",
    "                buy_order.bid_status = \"BOUGHT\"\n",
    "                sell_order.bid_status = \"SOLD\"\n",
    "                \n",
    "                buy_order.transaction_time = transact_time\n",
    "                sell_order.transaction_time = transact_time\n",
    "                \n",
    "                trades.append([buy_order, sell_order])\n",
    "    return orders, trades"
   ]
  },
  {
   "cell_type": "code",
   "execution_count": null,
   "id": "d8ef182e-e357-46fa-9884-d5cfa1cabeb6",
   "metadata": {},
   "outputs": [
    {
     "name": "stderr",
     "output_type": "stream",
     "text": [
      "Matchmaking for Infosys: 100%|██████████████████████████████████████████| 528/528 [00:00<00:00, 5701.28it/s]\n",
      "Matchmaking for Rakuten: 100%|██████████████████████████████████████████| 612/612 [00:00<00:00, 8061.76it/s]\n",
      "Matchmaking for Karza: 100%|████████████████████████████████████████████| 566/566 [00:00<00:00, 8757.57it/s]\n"
     ]
    }
   ],
   "source": [
    "trades = []\n",
    "for instrument in instruments:\n",
    "    order_data, instrument_trades = resolve_instrument(order_data, instrument)\n",
    "    trades.extend(instrument_trades)"
   ]
  },
  {
   "cell_type": "code",
   "execution_count": null,
   "id": "cb8e0deb-9e49-4cdd-9996-a9b676f1447b",
   "metadata": {},
   "outputs": [
    {
     "data": {
      "text/plain": [
       "1414"
      ]
     },
     "execution_count": null,
     "metadata": {},
     "output_type": "execute_result"
    }
   ],
   "source": [
    "len(trades)"
   ]
  },
  {
   "cell_type": "code",
   "execution_count": null,
   "id": "fa4de3bb-7781-407b-b266-fa32b964195f",
   "metadata": {},
   "outputs": [
    {
     "name": "stdout",
     "output_type": "stream",
     "text": [
      "BIDDER: Shreysi | INSTRUMENT: Rakuten | BID TYPE: Buy | BID TIME: 13-43-20| BID PRICE:  391 INR| STATUS: BOUGHT   | TRANSACTION_TIME: 2023-02-28 13:58:20 \n",
      "BIDDER: Vinayak | INSTRUMENT: Rakuten | BID TYPE: Sell| BID TIME: 13-58-20| BID PRICE:  391 INR| STATUS: SOLD     | TRANSACTION_TIME: 2023-02-28 13:58:20\n",
      "\n",
      "\n",
      "BIDDER: Shreysi | INSTRUMENT: Karza   | BID TYPE: Buy | BID TIME: 14-11-20| BID PRICE:   17 INR| STATUS: BOUGHT   | TRANSACTION_TIME: 2023-02-28 14:35:00 \n",
      "BIDDER: Vinayak | INSTRUMENT: Karza   | BID TYPE: Sell| BID TIME: 14-35-00| BID PRICE:   17 INR| STATUS: SOLD     | TRANSACTION_TIME: 2023-02-28 14:35:00\n",
      "\n",
      "\n",
      "BIDDER: Praveen | INSTRUMENT: Rakuten | BID TYPE: Buy | BID TIME: 14-07-00| BID PRICE:  402 INR| STATUS: BOUGHT   | TRANSACTION_TIME: 2023-02-28 15:23:40 \n",
      "BIDDER: Vinayak | INSTRUMENT: Rakuten | BID TYPE: Sell| BID TIME: 15-23-40| BID PRICE:  402 INR| STATUS: SOLD     | TRANSACTION_TIME: 2023-02-28 15:23:40\n",
      "\n",
      "\n",
      "BIDDER: Praveen | INSTRUMENT: Infosys | BID TYPE: Buy | BID TIME: 12-32-00| BID PRICE: 1513 INR| STATUS: BOUGHT   | TRANSACTION_TIME: 2023-02-28 13:04:00 \n",
      "BIDDER: Shreysi | INSTRUMENT: Infosys | BID TYPE: Sell| BID TIME: 13-04-00| BID PRICE: 1513 INR| STATUS: SOLD     | TRANSACTION_TIME: 2023-02-28 13:04:00\n",
      "\n",
      "\n",
      "BIDDER: Praveen | INSTRUMENT: Rakuten | BID TYPE: Buy | BID TIME: 09-53-40| BID PRICE:  393 INR| STATUS: BOUGHT   | TRANSACTION_TIME: 2023-02-28 09:59:00 \n",
      "BIDDER: Vinayak | INSTRUMENT: Rakuten | BID TYPE: Sell| BID TIME: 09-59-00| BID PRICE:  393 INR| STATUS: SOLD     | TRANSACTION_TIME: 2023-02-28 09:59:00\n",
      "\n",
      "\n",
      "BIDDER: Shreysi | INSTRUMENT: Infosys | BID TYPE: Buy | BID TIME: 11-45-40| BID PRICE: 1515 INR| STATUS: BOUGHT   | TRANSACTION_TIME: 2023-02-28 13:00:00 \n",
      "BIDDER: Vinayak | INSTRUMENT: Infosys | BID TYPE: Sell| BID TIME: 13-00-00| BID PRICE: 1515 INR| STATUS: SOLD     | TRANSACTION_TIME: 2023-02-28 13:00:00\n",
      "\n",
      "\n",
      "BIDDER: Shreysi | INSTRUMENT: Infosys | BID TYPE: Buy | BID TIME: 12-46-40| BID PRICE: 1512 INR| STATUS: BOUGHT   | TRANSACTION_TIME: 2023-02-28 15:26:00 \n",
      "BIDDER: Praveen | INSTRUMENT: Infosys | BID TYPE: Sell| BID TIME: 15-26-00| BID PRICE: 1512 INR| STATUS: SOLD     | TRANSACTION_TIME: 2023-02-28 15:26:00\n",
      "\n",
      "\n",
      "BIDDER: Praveen | INSTRUMENT: Karza   | BID TYPE: Buy | BID TIME: 11-54-20| BID PRICE:   15 INR| STATUS: BOUGHT   | TRANSACTION_TIME: 2023-02-28 12:00:40 \n",
      "BIDDER: Shreysi | INSTRUMENT: Karza   | BID TYPE: Sell| BID TIME: 12-00-40| BID PRICE:   15 INR| STATUS: SOLD     | TRANSACTION_TIME: 2023-02-28 12:00:40\n",
      "\n",
      "\n",
      "BIDDER: Vinayak | INSTRUMENT: Karza   | BID TYPE: Buy | BID TIME: 11-06-00| BID PRICE:   11 INR| STATUS: BOUGHT   | TRANSACTION_TIME: 2023-02-28 11:42:20 \n",
      "BIDDER: Shreysi | INSTRUMENT: Karza   | BID TYPE: Sell| BID TIME: 11-42-20| BID PRICE:   11 INR| STATUS: SOLD     | TRANSACTION_TIME: 2023-02-28 11:42:20\n",
      "\n",
      "\n",
      "BIDDER: Vinayak | INSTRUMENT: Rakuten | BID TYPE: Buy | BID TIME: 09-50-20| BID PRICE:  417 INR| STATUS: BOUGHT   | TRANSACTION_TIME: 2023-02-28 09:54:40 \n",
      "BIDDER: Shreysi | INSTRUMENT: Rakuten | BID TYPE: Sell| BID TIME: 09-54-40| BID PRICE:  417 INR| STATUS: SOLD     | TRANSACTION_TIME: 2023-02-28 09:54:40\n",
      "\n",
      "\n"
     ]
    }
   ],
   "source": [
    "for t in random.sample(trades, 10):\n",
    "    print(f\"{t[0]} \\n{t[1]}\\n\\n\")"
   ]
  },
  {
   "cell_type": "code",
   "execution_count": null,
   "id": "05dba20b-d866-4be2-b0c2-4a8b3f768223",
   "metadata": {},
   "outputs": [],
   "source": []
  },
  {
   "cell_type": "code",
   "execution_count": null,
   "id": "09264b20-83a5-4c69-910d-06724e2b637c",
   "metadata": {},
   "outputs": [],
   "source": []
  },
  {
   "cell_type": "code",
   "execution_count": null,
   "id": "e4259d5f-9745-4fcc-98c4-64390f49de32",
   "metadata": {},
   "outputs": [],
   "source": [
    "for idx in range(100):\n",
    "    try:\n",
    "        sell_rec = inst_sells.iloc[idx]\n",
    "        if len(sell_rec) == 0: continue\n",
    "\n",
    "        sell_bid_instrument, sell_bid_price, sell_bid_status, sell_bid_time, sell_bid_type, sell_bidder, sell_transaction_time = sell_rec.values\n",
    "        sell_idx = sell_rec.name\n",
    "\n",
    "        # Only check for a buy if this trade is still active \n",
    "        if sell_bid_status != \"ACTIVE\": continue\n",
    "\n",
    "        # Start fetching a buy order in the \n",
    "        buy_df = inst_buys[inst_buys.bid_time <= sell_bid_time]\n",
    "\n",
    "        if len(buy_df) > 0:\n",
    "            for bid in range(len(buy_df)):\n",
    "                buy_rec = buy_df.iloc[bid]\n",
    "                buy_bid_instrument, buy_bid_price, buy_bid_status, buy_bid_time, buy_bid_type, buy_bidder, buy_transaction_time = buy_rec.values\n",
    "                buy_idx = buy_rec.name\n",
    "\n",
    "                if buy_bid_price == sell_bid_price:\n",
    "                    # Trade has happened successfully\n",
    "                    tr_time = max(buy_bid_time, sell_bid_time)\n",
    "                    buy_df.loc[buy_idx, \"transaction_time\"] = tr_time\n",
    "                    buy_df.loc[buy_idx, \"bid_status\"] = \"TRADED\"\n",
    "\n",
    "                    inst_sells.loc[sell_idx, \"transaction_time\"] = tr_time\n",
    "                    inst_sells.loc[sell_idx, \"bid_status\"] = \"TRADED\"\n",
    "                    trades.append([buy_rec, sell_rec])\n",
    "    except Exception as e:\n",
    "        print(sell_rec, str(e))"
   ]
  },
  {
   "cell_type": "code",
   "execution_count": null,
   "id": "3fbd961c-6674-4701-b565-9db2a819c62f",
   "metadata": {},
   "outputs": [],
   "source": []
  },
  {
   "cell_type": "code",
   "execution_count": null,
   "id": "b5e462b6-9393-43fe-a3a3-487182679419",
   "metadata": {},
   "outputs": [],
   "source": []
  },
  {
   "cell_type": "code",
   "execution_count": null,
   "id": "92a77549-28b9-4463-ba2a-9a25ce27f37c",
   "metadata": {},
   "outputs": [],
   "source": []
  },
  {
   "cell_type": "code",
   "execution_count": null,
   "id": "3749fc4a-4dd5-4478-aafb-0c2b2800d8f1",
   "metadata": {},
   "outputs": [],
   "source": []
  },
  {
   "cell_type": "code",
   "execution_count": null,
   "id": "bce7e5e1-4224-487e-bc77-cd521b82aad7",
   "metadata": {},
   "outputs": [],
   "source": []
  },
  {
   "cell_type": "code",
   "execution_count": null,
   "id": "b603f38e-e696-4564-b9b0-e6c1218cc7d8",
   "metadata": {},
   "outputs": [],
   "source": []
  },
  {
   "cell_type": "code",
   "execution_count": null,
   "id": "59b8047b-667a-4cf0-a6ab-f34063448b31",
   "metadata": {},
   "outputs": [],
   "source": []
  },
  {
   "cell_type": "code",
   "execution_count": null,
   "id": "1239771c-b026-4a18-ba0a-7d8a4e62e748",
   "metadata": {},
   "outputs": [],
   "source": []
  },
  {
   "cell_type": "code",
   "execution_count": null,
   "id": "5472537f-db5a-4b15-a140-3307d114265f",
   "metadata": {},
   "outputs": [],
   "source": [
    "fields = dir(order_data[0])\n",
    "fields = [x for x in fields if not x.startswith(\"_\")]\n",
    "\n",
    "record = []\n",
    "for o in order_data:\n",
    "    rec = []\n",
    "    for f in fields:\n",
    "        rec.append(getattr(o, f))\n",
    "    record.append(rec)\n",
    "\n",
    "df = pd.DataFrame(record, columns = fields)"
   ]
  },
  {
   "cell_type": "code",
   "execution_count": null,
   "id": "5721c7a2-f818-4347-97de-db774cfe1032",
   "metadata": {},
   "outputs": [],
   "source": [
    "bidders = df.bidder.unique().tolist()\n",
    "instruments = df.bid_instrument.unique().tolist()"
   ]
  },
  {
   "cell_type": "code",
   "execution_count": null,
   "id": "2e44ab3c-2b57-4244-9143-0a8939c2ec80",
   "metadata": {},
   "outputs": [],
   "source": [
    "instrument = \"Rakuten\"\n",
    "inst_buys = df[(df.bid_instrument == instrument) & (df.bid_type == \"Buy\")]\n",
    "inst_sells = df[(df.bid_instrument == instrument) & (df.bid_type == \"Sell\")]"
   ]
  },
  {
   "cell_type": "code",
   "execution_count": null,
   "id": "b8002eeb-70b9-4144-93f3-5d3f17c5f86b",
   "metadata": {},
   "outputs": [],
   "source": [
    "trades = []"
   ]
  },
  {
   "cell_type": "code",
   "execution_count": null,
   "id": "04af46cf-21d5-4d8b-8983-ae2570363492",
   "metadata": {},
   "outputs": [],
   "source": [
    "for idx in range(100):\n",
    "    try:\n",
    "        sell_rec = inst_sells.iloc[idx]\n",
    "        if len(sell_rec) == 0: continue\n",
    "\n",
    "        sell_bid_instrument, sell_bid_price, sell_bid_status, sell_bid_time, sell_bid_type, sell_bidder, sell_transaction_time = sell_rec.values\n",
    "        sell_idx = sell_rec.name\n",
    "\n",
    "        # Only check for a buy if this trade is still active \n",
    "        if sell_bid_status != \"ACTIVE\": continue\n",
    "\n",
    "        # Start fetching a buy order in the \n",
    "        buy_df = inst_buys[inst_buys.bid_time <= sell_bid_time]\n",
    "\n",
    "        if len(buy_df) > 0:\n",
    "            for bid in range(len(buy_df)):\n",
    "                buy_rec = buy_df.iloc[bid]\n",
    "                buy_bid_instrument, buy_bid_price, buy_bid_status, buy_bid_time, buy_bid_type, buy_bidder, buy_transaction_time = buy_rec.values\n",
    "                buy_idx = buy_rec.name\n",
    "\n",
    "                if buy_bid_price == sell_bid_price:\n",
    "                    # Trade has happened successfully\n",
    "                    tr_time = max(buy_bid_time, sell_bid_time)\n",
    "                    buy_df.loc[buy_idx, \"transaction_time\"] = tr_time\n",
    "                    buy_df.loc[buy_idx, \"bid_status\"] = \"TRADED\"\n",
    "\n",
    "                    inst_sells.loc[sell_idx, \"transaction_time\"] = tr_time\n",
    "                    inst_sells.loc[sell_idx, \"bid_status\"] = \"TRADED\"\n",
    "                    trades.append([buy_rec, sell_rec])\n",
    "    except Exception as e:\n",
    "        print(sell_rec, str(e))"
   ]
  },
  {
   "cell_type": "code",
   "execution_count": null,
   "id": "0475e636-4fd1-4015-b91f-f7eeb8642e5d",
   "metadata": {},
   "outputs": [
    {
     "data": {
      "text/html": [
       "<div>\n",
       "<style scoped>\n",
       "    .dataframe tbody tr th:only-of-type {\n",
       "        vertical-align: middle;\n",
       "    }\n",
       "\n",
       "    .dataframe tbody tr th {\n",
       "        vertical-align: top;\n",
       "    }\n",
       "\n",
       "    .dataframe thead th {\n",
       "        text-align: right;\n",
       "    }\n",
       "</style>\n",
       "<table border=\"1\" class=\"dataframe\">\n",
       "  <thead>\n",
       "    <tr style=\"text-align: right;\">\n",
       "      <th></th>\n",
       "      <th>bid_instrument</th>\n",
       "      <th>bid_price</th>\n",
       "      <th>bid_status</th>\n",
       "      <th>bid_time</th>\n",
       "      <th>bid_type</th>\n",
       "      <th>bidder</th>\n",
       "      <th>transaction_time</th>\n",
       "    </tr>\n",
       "  </thead>\n",
       "  <tbody>\n",
       "    <tr>\n",
       "      <th>0</th>\n",
       "      <td>Rakuten</td>\n",
       "      <td>398</td>\n",
       "      <td>ACTIVE</td>\n",
       "      <td>2023-02-28 09:30:00</td>\n",
       "      <td>Buy</td>\n",
       "      <td>Vinayak</td>\n",
       "      <td>None</td>\n",
       "    </tr>\n",
       "    <tr>\n",
       "      <th>1</th>\n",
       "      <td>Rakuten</td>\n",
       "      <td>393</td>\n",
       "      <td>ACTIVE</td>\n",
       "      <td>2023-02-28 09:30:20</td>\n",
       "      <td>Buy</td>\n",
       "      <td>Vinayak</td>\n",
       "      <td>None</td>\n",
       "    </tr>\n",
       "    <tr>\n",
       "      <th>2</th>\n",
       "      <td>Rakuten</td>\n",
       "      <td>393</td>\n",
       "      <td>ACTIVE</td>\n",
       "      <td>2023-02-28 09:30:20</td>\n",
       "      <td>Buy</td>\n",
       "      <td>Vinayak</td>\n",
       "      <td>None</td>\n",
       "    </tr>\n",
       "    <tr>\n",
       "      <th>3</th>\n",
       "      <td>Karza</td>\n",
       "      <td>10</td>\n",
       "      <td>ACTIVE</td>\n",
       "      <td>2023-02-28 09:30:40</td>\n",
       "      <td>Buy</td>\n",
       "      <td>Praveen</td>\n",
       "      <td>None</td>\n",
       "    </tr>\n",
       "    <tr>\n",
       "      <th>4</th>\n",
       "      <td>Karza</td>\n",
       "      <td>10</td>\n",
       "      <td>ACTIVE</td>\n",
       "      <td>2023-02-28 09:30:40</td>\n",
       "      <td>Buy</td>\n",
       "      <td>Praveen</td>\n",
       "      <td>None</td>\n",
       "    </tr>\n",
       "    <tr>\n",
       "      <th>...</th>\n",
       "      <td>...</td>\n",
       "      <td>...</td>\n",
       "      <td>...</td>\n",
       "      <td>...</td>\n",
       "      <td>...</td>\n",
       "      <td>...</td>\n",
       "      <td>...</td>\n",
       "    </tr>\n",
       "    <tr>\n",
       "      <th>3330</th>\n",
       "      <td>Infosys</td>\n",
       "      <td>1511</td>\n",
       "      <td>ACTIVE</td>\n",
       "      <td>2023-02-28 15:29:40</td>\n",
       "      <td>Buy</td>\n",
       "      <td>Praveen</td>\n",
       "      <td>None</td>\n",
       "    </tr>\n",
       "    <tr>\n",
       "      <th>3331</th>\n",
       "      <td>Infosys</td>\n",
       "      <td>1511</td>\n",
       "      <td>ACTIVE</td>\n",
       "      <td>2023-02-28 15:29:40</td>\n",
       "      <td>Buy</td>\n",
       "      <td>Praveen</td>\n",
       "      <td>None</td>\n",
       "    </tr>\n",
       "    <tr>\n",
       "      <th>3332</th>\n",
       "      <td>Infosys</td>\n",
       "      <td>1502</td>\n",
       "      <td>ACTIVE</td>\n",
       "      <td>2023-02-28 15:30:00</td>\n",
       "      <td>Sell</td>\n",
       "      <td>Vinayak</td>\n",
       "      <td>None</td>\n",
       "    </tr>\n",
       "    <tr>\n",
       "      <th>3333</th>\n",
       "      <td>Infosys</td>\n",
       "      <td>1502</td>\n",
       "      <td>ACTIVE</td>\n",
       "      <td>2023-02-28 15:30:00</td>\n",
       "      <td>Sell</td>\n",
       "      <td>Vinayak</td>\n",
       "      <td>None</td>\n",
       "    </tr>\n",
       "    <tr>\n",
       "      <th>3334</th>\n",
       "      <td>Infosys</td>\n",
       "      <td>1502</td>\n",
       "      <td>ACTIVE</td>\n",
       "      <td>2023-02-28 15:30:00</td>\n",
       "      <td>Sell</td>\n",
       "      <td>Vinayak</td>\n",
       "      <td>None</td>\n",
       "    </tr>\n",
       "  </tbody>\n",
       "</table>\n",
       "<p>3335 rows × 7 columns</p>\n",
       "</div>"
      ],
      "text/plain": [
       "     bid_instrument  bid_price bid_status            bid_time bid_type  \\\n",
       "0           Rakuten        398     ACTIVE 2023-02-28 09:30:00      Buy   \n",
       "1           Rakuten        393     ACTIVE 2023-02-28 09:30:20      Buy   \n",
       "2           Rakuten        393     ACTIVE 2023-02-28 09:30:20      Buy   \n",
       "3             Karza         10     ACTIVE 2023-02-28 09:30:40      Buy   \n",
       "4             Karza         10     ACTIVE 2023-02-28 09:30:40      Buy   \n",
       "...             ...        ...        ...                 ...      ...   \n",
       "3330        Infosys       1511     ACTIVE 2023-02-28 15:29:40      Buy   \n",
       "3331        Infosys       1511     ACTIVE 2023-02-28 15:29:40      Buy   \n",
       "3332        Infosys       1502     ACTIVE 2023-02-28 15:30:00     Sell   \n",
       "3333        Infosys       1502     ACTIVE 2023-02-28 15:30:00     Sell   \n",
       "3334        Infosys       1502     ACTIVE 2023-02-28 15:30:00     Sell   \n",
       "\n",
       "       bidder transaction_time  \n",
       "0     Vinayak             None  \n",
       "1     Vinayak             None  \n",
       "2     Vinayak             None  \n",
       "3     Praveen             None  \n",
       "4     Praveen             None  \n",
       "...       ...              ...  \n",
       "3330  Praveen             None  \n",
       "3331  Praveen             None  \n",
       "3332  Vinayak             None  \n",
       "3333  Vinayak             None  \n",
       "3334  Vinayak             None  \n",
       "\n",
       "[3335 rows x 7 columns]"
      ]
     },
     "execution_count": null,
     "metadata": {},
     "output_type": "execute_result"
    }
   ],
   "source": [
    "df"
   ]
  },
  {
   "cell_type": "code",
   "execution_count": null,
   "id": "168684b1-5454-4801-a976-88ef254c3164",
   "metadata": {},
   "outputs": [],
   "source": []
  },
  {
   "cell_type": "code",
   "execution_count": null,
   "id": "f43680f7-7300-4722-86c3-f230263e3667",
   "metadata": {},
   "outputs": [],
   "source": []
  },
  {
   "cell_type": "code",
   "execution_count": null,
   "id": "1ffe90f7-1ae3-43d4-a273-07f93af05f49",
   "metadata": {},
   "outputs": [],
   "source": []
  },
  {
   "cell_type": "code",
   "execution_count": null,
   "id": "20c90fd0-4532-4dbc-bac0-88422d993924",
   "metadata": {},
   "outputs": [],
   "source": []
  },
  {
   "cell_type": "code",
   "execution_count": null,
   "id": "d767b143-99e1-4957-9587-c969abb70fc4",
   "metadata": {},
   "outputs": [],
   "source": []
  }
 ],
 "metadata": {
  "kernelspec": {
   "display_name": "Python 3 (ipykernel)",
   "language": "python",
   "name": "python3"
  }
 },
 "nbformat": 4,
 "nbformat_minor": 5
}
